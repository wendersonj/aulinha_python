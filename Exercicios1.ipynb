{
  "nbformat": 4,
  "nbformat_minor": 0,
  "metadata": {
    "colab": {
      "name": "Untitled0.ipynb",
      "provenance": [],
      "authorship_tag": "ABX9TyNRAnvhZF7662WiFjTJDwPr",
      "include_colab_link": true
    },
    "kernelspec": {
      "name": "python3",
      "display_name": "Python 3"
    },
    "language_info": {
      "name": "python"
    }
  },
  "cells": [
    {
      "cell_type": "markdown",
      "metadata": {
        "id": "view-in-github",
        "colab_type": "text"
      },
      "source": [
        "<a href=\"https://colab.research.google.com/github/wendersonj/aulinha_python/blob/master/Exercicios1.ipynb\" target=\"_parent\"><img src=\"https://colab.research.google.com/assets/colab-badge.svg\" alt=\"Open In Colab\"/></a>"
      ]
    },
    {
      "cell_type": "code",
      "execution_count": 14,
      "metadata": {
        "id": "SP0FYffNVIs0"
      },
      "outputs": [],
      "source": [
        "from io import StringIO\n",
        "\n",
        "import pandas as pd\n",
        "import requests"
      ]
    },
    {
      "cell_type": "code",
      "source": [
        "url=\"https://raw.githubusercontent.com/wendersonj/aulinha_python/master/Brasileirao_Matches.csv\" #Observação que o link começa com \"raw\"\n",
        "df = pd.read_csv(url)\n",
        "df = df.reset_index()  # make sure indexes pair with number of rows\n",
        "df.head() #show the first 5 rows"
      ],
      "metadata": {
        "colab": {
          "base_uri": "https://localhost:8080/",
          "height": 206
        },
        "id": "5qRejFByXsT8",
        "outputId": "d7b61491-3268-44d6-cec1-c62fe05e4d86"
      },
      "execution_count": 31,
      "outputs": [
        {
          "output_type": "execute_result",
          "data": {
            "text/plain": [
              "   index             datetime    home_team home_team_state   away_team  \\\n",
              "0      0  2012-05-19 18:30:00    Palmeiras              SP  Portuguesa   \n",
              "1      1  2012-05-19 18:30:00        Sport              PE    Flamengo   \n",
              "2      2  2012-05-19 21:00:00  Figueirense              SC     Náutico   \n",
              "3      3  2012-05-20 16:00:00  Ponte Preta              SP    Atlético   \n",
              "4      4  2012-05-20 16:00:00  Corinthians              SP  Fluminense   \n",
              "\n",
              "  away_team_state  home_goal  away_goal  season  round  \n",
              "0              SP        1.0        1.0    2012      1  \n",
              "1              RJ        1.0        1.0    2012      1  \n",
              "2              PE        2.0        1.0    2012      1  \n",
              "3              MG        0.0        1.0    2012      1  \n",
              "4              RJ        0.0        1.0    2012      1  "
            ],
            "text/html": [
              "\n",
              "  <div id=\"df-e746f406-a527-4335-a816-a896966f25a0\">\n",
              "    <div class=\"colab-df-container\">\n",
              "      <div>\n",
              "<style scoped>\n",
              "    .dataframe tbody tr th:only-of-type {\n",
              "        vertical-align: middle;\n",
              "    }\n",
              "\n",
              "    .dataframe tbody tr th {\n",
              "        vertical-align: top;\n",
              "    }\n",
              "\n",
              "    .dataframe thead th {\n",
              "        text-align: right;\n",
              "    }\n",
              "</style>\n",
              "<table border=\"1\" class=\"dataframe\">\n",
              "  <thead>\n",
              "    <tr style=\"text-align: right;\">\n",
              "      <th></th>\n",
              "      <th>index</th>\n",
              "      <th>datetime</th>\n",
              "      <th>home_team</th>\n",
              "      <th>home_team_state</th>\n",
              "      <th>away_team</th>\n",
              "      <th>away_team_state</th>\n",
              "      <th>home_goal</th>\n",
              "      <th>away_goal</th>\n",
              "      <th>season</th>\n",
              "      <th>round</th>\n",
              "    </tr>\n",
              "  </thead>\n",
              "  <tbody>\n",
              "    <tr>\n",
              "      <th>0</th>\n",
              "      <td>0</td>\n",
              "      <td>2012-05-19 18:30:00</td>\n",
              "      <td>Palmeiras</td>\n",
              "      <td>SP</td>\n",
              "      <td>Portuguesa</td>\n",
              "      <td>SP</td>\n",
              "      <td>1.0</td>\n",
              "      <td>1.0</td>\n",
              "      <td>2012</td>\n",
              "      <td>1</td>\n",
              "    </tr>\n",
              "    <tr>\n",
              "      <th>1</th>\n",
              "      <td>1</td>\n",
              "      <td>2012-05-19 18:30:00</td>\n",
              "      <td>Sport</td>\n",
              "      <td>PE</td>\n",
              "      <td>Flamengo</td>\n",
              "      <td>RJ</td>\n",
              "      <td>1.0</td>\n",
              "      <td>1.0</td>\n",
              "      <td>2012</td>\n",
              "      <td>1</td>\n",
              "    </tr>\n",
              "    <tr>\n",
              "      <th>2</th>\n",
              "      <td>2</td>\n",
              "      <td>2012-05-19 21:00:00</td>\n",
              "      <td>Figueirense</td>\n",
              "      <td>SC</td>\n",
              "      <td>Náutico</td>\n",
              "      <td>PE</td>\n",
              "      <td>2.0</td>\n",
              "      <td>1.0</td>\n",
              "      <td>2012</td>\n",
              "      <td>1</td>\n",
              "    </tr>\n",
              "    <tr>\n",
              "      <th>3</th>\n",
              "      <td>3</td>\n",
              "      <td>2012-05-20 16:00:00</td>\n",
              "      <td>Ponte Preta</td>\n",
              "      <td>SP</td>\n",
              "      <td>Atlético</td>\n",
              "      <td>MG</td>\n",
              "      <td>0.0</td>\n",
              "      <td>1.0</td>\n",
              "      <td>2012</td>\n",
              "      <td>1</td>\n",
              "    </tr>\n",
              "    <tr>\n",
              "      <th>4</th>\n",
              "      <td>4</td>\n",
              "      <td>2012-05-20 16:00:00</td>\n",
              "      <td>Corinthians</td>\n",
              "      <td>SP</td>\n",
              "      <td>Fluminense</td>\n",
              "      <td>RJ</td>\n",
              "      <td>0.0</td>\n",
              "      <td>1.0</td>\n",
              "      <td>2012</td>\n",
              "      <td>1</td>\n",
              "    </tr>\n",
              "  </tbody>\n",
              "</table>\n",
              "</div>\n",
              "      <button class=\"colab-df-convert\" onclick=\"convertToInteractive('df-e746f406-a527-4335-a816-a896966f25a0')\"\n",
              "              title=\"Convert this dataframe to an interactive table.\"\n",
              "              style=\"display:none;\">\n",
              "        \n",
              "  <svg xmlns=\"http://www.w3.org/2000/svg\" height=\"24px\"viewBox=\"0 0 24 24\"\n",
              "       width=\"24px\">\n",
              "    <path d=\"M0 0h24v24H0V0z\" fill=\"none\"/>\n",
              "    <path d=\"M18.56 5.44l.94 2.06.94-2.06 2.06-.94-2.06-.94-.94-2.06-.94 2.06-2.06.94zm-11 1L8.5 8.5l.94-2.06 2.06-.94-2.06-.94L8.5 2.5l-.94 2.06-2.06.94zm10 10l.94 2.06.94-2.06 2.06-.94-2.06-.94-.94-2.06-.94 2.06-2.06.94z\"/><path d=\"M17.41 7.96l-1.37-1.37c-.4-.4-.92-.59-1.43-.59-.52 0-1.04.2-1.43.59L10.3 9.45l-7.72 7.72c-.78.78-.78 2.05 0 2.83L4 21.41c.39.39.9.59 1.41.59.51 0 1.02-.2 1.41-.59l7.78-7.78 2.81-2.81c.8-.78.8-2.07 0-2.86zM5.41 20L4 18.59l7.72-7.72 1.47 1.35L5.41 20z\"/>\n",
              "  </svg>\n",
              "      </button>\n",
              "      \n",
              "  <style>\n",
              "    .colab-df-container {\n",
              "      display:flex;\n",
              "      flex-wrap:wrap;\n",
              "      gap: 12px;\n",
              "    }\n",
              "\n",
              "    .colab-df-convert {\n",
              "      background-color: #E8F0FE;\n",
              "      border: none;\n",
              "      border-radius: 50%;\n",
              "      cursor: pointer;\n",
              "      display: none;\n",
              "      fill: #1967D2;\n",
              "      height: 32px;\n",
              "      padding: 0 0 0 0;\n",
              "      width: 32px;\n",
              "    }\n",
              "\n",
              "    .colab-df-convert:hover {\n",
              "      background-color: #E2EBFA;\n",
              "      box-shadow: 0px 1px 2px rgba(60, 64, 67, 0.3), 0px 1px 3px 1px rgba(60, 64, 67, 0.15);\n",
              "      fill: #174EA6;\n",
              "    }\n",
              "\n",
              "    [theme=dark] .colab-df-convert {\n",
              "      background-color: #3B4455;\n",
              "      fill: #D2E3FC;\n",
              "    }\n",
              "\n",
              "    [theme=dark] .colab-df-convert:hover {\n",
              "      background-color: #434B5C;\n",
              "      box-shadow: 0px 1px 3px 1px rgba(0, 0, 0, 0.15);\n",
              "      filter: drop-shadow(0px 1px 2px rgba(0, 0, 0, 0.3));\n",
              "      fill: #FFFFFF;\n",
              "    }\n",
              "  </style>\n",
              "\n",
              "      <script>\n",
              "        const buttonEl =\n",
              "          document.querySelector('#df-e746f406-a527-4335-a816-a896966f25a0 button.colab-df-convert');\n",
              "        buttonEl.style.display =\n",
              "          google.colab.kernel.accessAllowed ? 'block' : 'none';\n",
              "\n",
              "        async function convertToInteractive(key) {\n",
              "          const element = document.querySelector('#df-e746f406-a527-4335-a816-a896966f25a0');\n",
              "          const dataTable =\n",
              "            await google.colab.kernel.invokeFunction('convertToInteractive',\n",
              "                                                     [key], {});\n",
              "          if (!dataTable) return;\n",
              "\n",
              "          const docLinkHtml = 'Like what you see? Visit the ' +\n",
              "            '<a target=\"_blank\" href=https://colab.research.google.com/notebooks/data_table.ipynb>data table notebook</a>'\n",
              "            + ' to learn more about interactive tables.';\n",
              "          element.innerHTML = '';\n",
              "          dataTable['output_type'] = 'display_data';\n",
              "          await google.colab.output.renderOutput(dataTable, element);\n",
              "          const docLink = document.createElement('div');\n",
              "          docLink.innerHTML = docLinkHtml;\n",
              "          element.appendChild(docLink);\n",
              "        }\n",
              "      </script>\n",
              "    </div>\n",
              "  </div>\n",
              "  "
            ]
          },
          "metadata": {},
          "execution_count": 31
        }
      ]
    },
    {
      "cell_type": "markdown",
      "source": [
        "Iterando sobre os elementos da base"
      ],
      "metadata": {
        "id": "zQLiq8eQguQK"
      }
    },
    {
      "cell_type": "code",
      "source": [
        "#Iterando sobre a base\n",
        "for index, row in df.iterrows():\n",
        "    print(row)\n",
        "    print('\\n')\n",
        "    break\n",
        "\n",
        "#Acessando um atributo de um elemento\n",
        "for index, row in df.iterrows():\n",
        "    print(row['home_team'])\n",
        "    break\n",
        "\n",
        "#Acessar uma coluna:\n",
        "df.columns[0]"
      ],
      "metadata": {
        "id": "s7vEzQ84gt-8",
        "outputId": "d99710aa-2f4d-427f-d28d-7cdccf92a12e",
        "colab": {
          "base_uri": "https://localhost:8080/"
        }
      },
      "execution_count": 37,
      "outputs": [
        {
          "output_type": "stream",
          "name": "stdout",
          "text": [
            "index                                0\n",
            "datetime           2012-05-19 18:30:00\n",
            "home_team                    Palmeiras\n",
            "home_team_state                     SP\n",
            "away_team                   Portuguesa\n",
            "away_team_state                     SP\n",
            "home_goal                          1.0\n",
            "away_goal                          1.0\n",
            "season                            2012\n",
            "round                                1\n",
            "Name: 0, dtype: object\n",
            "\n",
            "\n",
            "Palmeiras\n"
          ]
        }
      ]
    },
    {
      "cell_type": "markdown",
      "source": [
        "Criar uma classe para representar a base de dados\n",
        "\n",
        "obs: usar TAB para identar"
      ],
      "metadata": {
        "id": "OM2CPcr8Xa4L"
      }
    },
    {
      "cell_type": "code",
      "source": [
        "class MeuObjeto:\n",
        "  def __init__(self, nome = None, idade=None):\n",
        "    if nome:\n",
        "      self.nome = nome\n",
        "    else:\n",
        "      raise Exception(\"Nome é obrigatório!\")\n",
        "    if idade is not None: #uma segunda forma de verificar se um objeto é nulo\n",
        "      self.idade = idade\n",
        "    else:\n",
        "      raise Exception(\"Idade é obrigatório!\")"
      ],
      "metadata": {
        "id": "AQeZ_EbIXmwz"
      },
      "execution_count": 22,
      "outputs": []
    },
    {
      "cell_type": "code",
      "source": [
        "try:\n",
        "  obj1 = MeuObjeto()\n",
        "except Exception as error:\n",
        "  print(\"erro gerado:\", error)\n",
        "  print(\"mas ja era esperado esse erro\")"
      ],
      "metadata": {
        "id": "E2tUQiwfbyqE",
        "outputId": "7e438a8b-70d2-4e2f-9720-4c74861bdf3c",
        "colab": {
          "base_uri": "https://localhost:8080/"
        }
      },
      "execution_count": 28,
      "outputs": [
        {
          "output_type": "stream",
          "name": "stdout",
          "text": [
            "erro gerado: Nome é obrigatório!\n",
            "mas ja era esperado esse erro\n"
          ]
        }
      ]
    },
    {
      "cell_type": "markdown",
      "source": [
        "---------------------\n",
        "Exemplo de um gráfico de barras"
      ],
      "metadata": {
        "id": "UavvmYR8pyJB"
      }
    },
    {
      "cell_type": "code",
      "source": [
        "import matplotlib.pyplot as plt\n",
        "import numpy as np\n",
        "\n",
        "# Example data\n",
        "fig = plt.figure()\n",
        "ax = fig.add_axes([0,0,1,1]) #especificação das dimensoes do grafico\n",
        "langs = ['C', 'C++', 'Java', 'Python', 'PHP'] #x\n",
        "students = [23,17,35,29,12] #y\n",
        "ax.bar(langs,students)\n",
        "ax.set_xlabel('Languages')\n",
        "ax.set_title('Best programming languages?')\n",
        "plt.show()\n"
      ],
      "metadata": {
        "id": "65qCTLRonN-T",
        "outputId": "6894a9d6-6eac-4946-c451-c29a5a463c6e",
        "colab": {
          "base_uri": "https://localhost:8080/",
          "height": 366
        }
      },
      "execution_count": 46,
      "outputs": [
        {
          "output_type": "display_data",
          "data": {
            "text/plain": [
              "<Figure size 432x288 with 1 Axes>"
            ],
            "image/png": "[encoded data removed]"
          },
          "metadata": {
            "needs_background": "light"
          }
        }
      ]
    },
    {
      "cell_type": "markdown",
      "source": [
        "------------------------------------------\n",
        "Gerar um gráfico de barras com a **quantidade total de gols de cada time**"
      ],
      "metadata": {
        "id": "6v45_YJvXI05"
      }
    },
    {
      "cell_type": "code",
      "source": [
        "#Resolver aqui\n"
      ],
      "metadata": {
        "colab": {
          "base_uri": "https://localhost:8080/",
          "height": 35
        },
        "id": "zcaApKVAXahj",
        "outputId": "a8f2726e-f651-476c-ddc5-89d2fcd47bbc"
      },
      "execution_count": 21,
      "outputs": [
        {
          "output_type": "execute_result",
          "data": {
            "text/plain": [
              "'datetime'"
            ],
            "application/vnd.google.colaboratory.intrinsic+json": {
              "type": "string"
            }
          },
          "metadata": {},
          "execution_count": 21
        }
      ]
    }
  ]
}